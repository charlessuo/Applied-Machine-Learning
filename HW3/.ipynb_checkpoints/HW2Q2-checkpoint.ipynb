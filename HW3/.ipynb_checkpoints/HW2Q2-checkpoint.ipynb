{
 "cells": [
  {
   "cell_type": "code",
   "execution_count": 1,
   "metadata": {
    "collapsed": true
   },
   "outputs": [],
   "source": [
    "import numpy as np\n",
    "import json\n",
    "import pandas as pd"
   ]
  },
  {
   "cell_type": "code",
   "execution_count": 8,
   "metadata": {
    "collapsed": false
   },
   "outputs": [
    {
     "name": "stdout",
     "output_type": "stream",
     "text": [
      "# of dishes is 39774\n"
     ]
    }
   ],
   "source": [
    "# number of dishes\n",
    "with open('./train.json') as file:\n",
    "    train_data = json.load(file)\n",
    "    \n",
    "print ('# of dishes is ' + str(len(train_data)))"
   ]
  },
  {
   "cell_type": "code",
   "execution_count": 9,
   "metadata": {
    "collapsed": false
   },
   "outputs": [
    {
     "name": "stdout",
     "output_type": "stream",
     "text": [
      "the # of distinct cuisine is 20\n",
      "the # of distinct ingredients is 6714\n"
     ]
    }
   ],
   "source": [
    "# counting unique cuisine and ingredients\n",
    "categ_hash = {}\n",
    "ingre_hash = {}\n",
    "for i in range(len(train_data)):\n",
    "    sample = train_data[i]\n",
    "#     sample_id = sample['id']\n",
    "    sample_cui= sample['cuisine']\n",
    "    sample_ing = sample['ingredients']\n",
    "    # first time seen this cuisine, make the count =1\n",
    "    if sample_cui not in categ_hash:\n",
    "        categ_hash[sample_cui] = 1\n",
    "    # otherwise count ++\n",
    "    else:\n",
    "        categ_hash[sample_cui] +=1\n",
    "    # ingredients is a list\n",
    "    for j in range(len(sample_ing)):\n",
    "        if sample_ing[j] not in ingre_hash:\n",
    "            ingre_hash[sample_ing[j]] = 1\n",
    "        else:\n",
    "            ingre_hash[sample_ing[j]] +=1\n",
    "\n",
    "print('the # of distinct cuisine is ' + str(len(categ_hash)))\n",
    "print('the # of distinct ingredients is ' + str(len(ingre_hash)))\n",
    "\n"
   ]
  },
  {
   "cell_type": "code",
   "execution_count": 16,
   "metadata": {
    "collapsed": false
   },
   "outputs": [
    {
     "data": {
      "text/plain": [
       "(39774, 6714)"
      ]
     },
     "execution_count": 16,
     "metadata": {},
     "output_type": "execute_result"
    }
   ],
   "source": [
    "train_set = np.zeros(shape = ((len(train_data), len(ingre_hash))))\n",
    "train_set.shape"
   ]
  },
  {
   "cell_type": "code",
   "execution_count": 18,
   "metadata": {
    "collapsed": false
   },
   "outputs": [
    {
     "data": {
      "text/plain": [
       "6714"
      ]
     },
     "execution_count": 18,
     "metadata": {},
     "output_type": "execute_result"
    }
   ],
   "source": [
    "# make list of unique ingredients\n",
    "ingre_list = ingre_hash.items()\n",
    "len(ingre_list)"
   ]
  },
  {
   "cell_type": "code",
   "execution_count": null,
   "metadata": {
    "collapsed": true
   },
   "outputs": [],
   "source": [
    "for i in range(len(train_data)):\n",
    "    sample = train_data[i]\n",
    "    sample_cui= sample['cuisine']\n",
    "    sample_ing = sample['ingredients']"
   ]
  }
 ],
 "metadata": {
  "kernelspec": {
   "display_name": "Python [Root]",
   "language": "python",
   "name": "Python [Root]"
  },
  "language_info": {
   "codemirror_mode": {
    "name": "ipython",
    "version": 3
   },
   "file_extension": ".py",
   "mimetype": "text/x-python",
   "name": "python",
   "nbconvert_exporter": "python",
   "pygments_lexer": "ipython3",
   "version": "3.5.2"
  }
 },
 "nbformat": 4,
 "nbformat_minor": 0
}
