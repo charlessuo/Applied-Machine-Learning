{
 "cells": [
  {
   "cell_type": "code",
   "execution_count": 1,
   "metadata": {
    "collapsed": true
   },
   "outputs": [],
   "source": [
    "import json\n",
    "import numpy as np\n",
    "import numpy.linalg as la\n",
    "import json\n",
    "from sklearn import metrics, cross_validation\n",
    "from sklearn.naive_bayes import GaussianNB, BernoulliNB\n",
    "from sklearn.linear_model import LogisticRegression"
   ]
  },
  {
   "cell_type": "code",
   "execution_count": 2,
   "metadata": {
    "collapsed": true
   },
   "outputs": [],
   "source": [
    "def get_raw_data(filename):\n",
    "    with open(filename) as file:\n",
    "        data = json.load(file)\n",
    "    return data"
   ]
  },
  {
   "cell_type": "code",
   "execution_count": 3,
   "metadata": {
    "collapsed": true
   },
   "outputs": [],
   "source": [
    "def get_feature_matrix(data, ingre_list, data_matrix):\n",
    "    # go through each dish first; aka: row interation\n",
    "    for i in range(len(data)):\n",
    "        sample = data[i]\n",
    "    #     sample_cui= sample['cuisine']\n",
    "        sample_ing = sample['ingredients']\n",
    "    # again, sample_ing is a list, have to go through each ingredient in the list\n",
    "        for j in range(len(sample_ing)):\n",
    "        # get the index of this ingredient\n",
    "            if sample_ing[j] in ingre_list:\n",
    "                data_matrix[i][ingre_list.index(sample_ing[j])] = 1\n",
    "    return data_matrix\n"
   ]
  },
  {
   "cell_type": "code",
   "execution_count": 16,
   "metadata": {
    "collapsed": true
   },
   "outputs": [],
   "source": [
    "def get_accuracy_bernoulli(X, Y, train_indices, test_indices):\n",
    "    BNB_model = BernoulliNB()\n",
    "    X_train = X[train_indices]\n",
    "    Y_train = Y[train_indices]\n",
    "    X_test = X[test_indices]\n",
    "    Y_test = Y[test_indices]\n",
    "    BNB_model.fit(X_train, Y_train)\n",
    "    Y_predicted = BNB_model.predict(X_test)\n",
    "    count = 0\n",
    "    for i in range(len(Y_predicted)):\n",
    "        if Y_predicted[i] == Y_test[i]:\n",
    "            count +=1\n",
    "            \n",
    "    return count/float(len(Y_test))"
   ]
  },
  {
   "cell_type": "code",
   "execution_count": 4,
   "metadata": {
    "collapsed": true
   },
   "outputs": [],
   "source": [
    "def get_accuracy_gaussian(X, Y, train_indices, test_indices):\n",
    "    GNB_model = GaussianNB()\n",
    "    X_train = X[train_indices]\n",
    "    Y_train = Y[train_indices]\n",
    "    X_test = X[test_indices]\n",
    "    Y_test = Y[test_indices]\n",
    "    GNB_model.fit(X_train, Y_train)\n",
    "    Y_predicted = GNB_model.predict(X_test)\n",
    "    count = 0\n",
    "    for i in range(len(Y_predicted)):\n",
    "        if Y_predicted[i] == Y_test[i]:\n",
    "            count +=1\n",
    "            \n",
    "    return count/float(len(Y_test))"
   ]
  },
  {
   "cell_type": "code",
   "execution_count": 21,
   "metadata": {
    "collapsed": true
   },
   "outputs": [],
   "source": [
    "def get_accuracy_logistic(X, Y, train_indices, test_indices):\n",
    "    LR_model = LogisticRegression()\n",
    "    X_train = X[train_indices]\n",
    "    Y_train = Y[train_indices]\n",
    "    X_test = X[test_indices]\n",
    "    Y_test = Y[test_indices]\n",
    "    LR_model.fit(X_train, Y_train)\n",
    "    Y_predicted = LR_model.predict(X_test)\n",
    "    count = 0\n",
    "    for i in range(len(Y_predicted)):\n",
    "        if Y_predicted[i] == Y_test[i]:\n",
    "            count +=1\n",
    "            \n",
    "    return count/float(len(Y_test))"
   ]
  },
  {
   "cell_type": "code",
   "execution_count": 6,
   "metadata": {
    "collapsed": false
   },
   "outputs": [
    {
     "name": "stdout",
     "output_type": "stream",
     "text": [
      "# of dishes is 39774\n",
      "test data length 9944\n"
     ]
    }
   ],
   "source": [
    "# number of dishes\n",
    "train_data = get_raw_data('./train.json')\n",
    "test_data = get_raw_data('./test.json')\n",
    "\n",
    "print ('# of dishes is ' + str(len(train_data)))\n",
    "print (\"test data length \" + str(len(test_data)))"
   ]
  },
  {
   "cell_type": "code",
   "execution_count": 7,
   "metadata": {
    "collapsed": false
   },
   "outputs": [
    {
     "name": "stdout",
     "output_type": "stream",
     "text": [
      "the # of distinct cuisine is 20\n",
      "the # of distinct ingredients is 6714\n"
     ]
    }
   ],
   "source": [
    "# counting unique cuisine and ingredients\n",
    "# also save unique ingredients to the ingre_list and save all the dishes name to train_labels\n",
    "categ_hash = {}\n",
    "ingre_hash = {}\n",
    "ingre_list = []\n",
    "train_labels = []\n",
    "for i in range(len(train_data)):\n",
    "    sample = train_data[i]\n",
    "#     sample_id = sample['id']\n",
    "    sample_cui= sample['cuisine']\n",
    "    train_labels.append(sample_cui)\n",
    "    sample_ing = sample['ingredients']\n",
    "    # first time seen this cuisine, make the count =1\n",
    "    if sample_cui not in categ_hash:\n",
    "        categ_hash[sample_cui] = 1\n",
    "    # otherwise count ++\n",
    "    else:\n",
    "        categ_hash[sample_cui] +=1\n",
    "    # ingredients is a list\n",
    "    for j in range(len(sample_ing)):\n",
    "        if sample_ing[j] not in ingre_hash:\n",
    "            ingre_hash[sample_ing[j]] = 1\n",
    "            ingre_list.append(sample_ing[j])\n",
    "        else:\n",
    "            ingre_hash[sample_ing[j]] +=1\n",
    "\n",
    "print('the # of distinct cuisine is ' + str(len(categ_hash)))\n",
    "print('the # of distinct ingredients is ' + str(len(ingre_hash)))\n",
    "\n"
   ]
  },
  {
   "cell_type": "code",
   "execution_count": 8,
   "metadata": {
    "collapsed": false
   },
   "outputs": [
    {
     "data": {
      "text/plain": [
       "6714"
      ]
     },
     "execution_count": 8,
     "metadata": {},
     "output_type": "execute_result"
    }
   ],
   "source": [
    "len(ingre_list)"
   ]
  },
  {
   "cell_type": "code",
   "execution_count": 9,
   "metadata": {
    "collapsed": false
   },
   "outputs": [
    {
     "data": {
      "text/plain": [
       "(39774, 6714)"
      ]
     },
     "execution_count": 9,
     "metadata": {},
     "output_type": "execute_result"
    }
   ],
   "source": [
    "train_matrix = np.zeros(shape = ((len(train_data), len(ingre_hash))))\n",
    "\n",
    "train_matrix = get_feature_matrix(train_data, ingre_list, train_matrix)\n",
    "train_matrix.shape"
   ]
  },
  {
   "cell_type": "code",
   "execution_count": 10,
   "metadata": {
    "collapsed": false
   },
   "outputs": [
    {
     "data": {
      "text/plain": [
       "(9944, 6714)"
      ]
     },
     "execution_count": 10,
     "metadata": {},
     "output_type": "execute_result"
    }
   ],
   "source": [
    "test_matrix = np.zeros(shape = ((len(test_data), len(ingre_hash))))\n",
    "test_matrix = get_feature_matrix(test_data, ingre_list, test_matrix)\n",
    "test_matrix.shape"
   ]
  },
  {
   "cell_type": "code",
   "execution_count": 14,
   "metadata": {
    "collapsed": false
   },
   "outputs": [],
   "source": [
    "train_labels = np.array(train_labels)"
   ]
  },
  {
   "cell_type": "code",
   "execution_count": 15,
   "metadata": {
    "collapsed": false
   },
   "outputs": [
    {
     "name": "stdout",
     "output_type": "stream",
     "text": [
      "0.37901644290239855\n",
      "0.3829386031075577\n",
      "0.37758334590435966\n"
     ]
    }
   ],
   "source": [
    "for train_set, test_set in cross_validation.KFold(len(train_matrix), n_folds=3):\n",
    "    accuracy = get_accuracy_gaussian(train_matrix, train_labels, train_set, test_set)\n",
    "    print (accuracy)"
   ]
  },
  {
   "cell_type": "code",
   "execution_count": 17,
   "metadata": {
    "collapsed": false
   },
   "outputs": [
    {
     "name": "stdout",
     "output_type": "stream",
     "text": [
      "0.684190677326897\n",
      "0.6795142555438226\n",
      "0.6869060190073918\n"
     ]
    }
   ],
   "source": [
    "for train_set, test_set in cross_validation.KFold(len(train_matrix), n_folds=3):\n",
    "    accuracy = get_accuracy_bernoulli(train_matrix, train_labels, train_set, test_set)\n",
    "    print (accuracy)"
   ]
  },
  {
   "cell_type": "code",
   "execution_count": 22,
   "metadata": {
    "collapsed": false
   },
   "outputs": [
    {
     "name": "stdout",
     "output_type": "stream",
     "text": [
      "0.7758334590435964\n",
      "0.7721375773118118\n",
      "0.7786996530396741\n"
     ]
    }
   ],
   "source": [
    "for train_set, test_set in cross_validation.KFold(len(train_matrix), n_folds=3):\n",
    "    accuracy = get_accuracy_logistic(train_matrix, train_labels, train_set, test_set)\n",
    "    print (accuracy)"
   ]
  },
  {
   "cell_type": "code",
   "execution_count": 27,
   "metadata": {
    "collapsed": false
   },
   "outputs": [],
   "source": [
    "# use logistic regression as the best classifier\n",
    "LR_model = LogisticRegression()\n",
    "LR_model.fit(train_matrix, train_labels)\n",
    "predicted_labels = LR_model.predict(test_matrix)"
   ]
  },
  {
   "cell_type": "code",
   "execution_count": 25,
   "metadata": {
    "collapsed": false
   },
   "outputs": [
    {
     "name": "stdout",
     "output_type": "stream",
     "text": [
      "9944\n",
      "11885\n"
     ]
    }
   ],
   "source": [
    "# just checked the sample_submission, it needs output ID as well, which is....\n",
    "test_id = []\n",
    "for i in range(len(test_data)):\n",
    "    sample = test_data[i]\n",
    "    temp_id = sample['id']\n",
    "    test_id.append(temp_id)\n",
    "\n",
    "print (len(test_id))\n",
    "print (test_id[23])"
   ]
  },
  {
   "cell_type": "code",
   "execution_count": 31,
   "metadata": {
    "collapsed": false
   },
   "outputs": [],
   "source": [
    "import csv\n",
    "\n",
    "with open('dishes.csv', \"w\") as f:\n",
    "    writer = csv.writer(f, delimiter=',')\n",
    "    writer.writerow(['id', 'cuisine'])\n",
    "    for index in range(len(test_id)):\n",
    "        writer.writerow([test_id[index], predicted_labels[index]])"
   ]
  },
  {
   "cell_type": "code",
   "execution_count": null,
   "metadata": {
    "collapsed": true
   },
   "outputs": [],
   "source": []
  }
 ],
 "metadata": {
  "kernelspec": {
   "display_name": "Python [Root]",
   "language": "python",
   "name": "Python [Root]"
  },
  "language_info": {
   "codemirror_mode": {
    "name": "ipython",
    "version": 3
   },
   "file_extension": ".py",
   "mimetype": "text/x-python",
   "name": "python",
   "nbconvert_exporter": "python",
   "pygments_lexer": "ipython3",
   "version": "3.5.2"
  }
 },
 "nbformat": 4,
 "nbformat_minor": 0
}
