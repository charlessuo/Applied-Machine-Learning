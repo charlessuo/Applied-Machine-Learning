{
 "cells": [
  {
   "cell_type": "code",
   "execution_count": 1,
   "metadata": {
    "collapsed": true
   },
   "outputs": [],
   "source": [
    "# Writing HW Q3\n",
    "import numpy as np\n",
    "import numpy.linalg as la\n"
   ]
  },
  {
   "cell_type": "code",
   "execution_count": 2,
   "metadata": {
    "collapsed": false
   },
   "outputs": [
    {
     "data": {
      "text/plain": [
       "array([[1, 2, 3],\n",
       "       [3, 4, 5],\n",
       "       [5, 4, 3],\n",
       "       [0, 2, 4],\n",
       "       [1, 3, 5]])"
      ]
     },
     "execution_count": 2,
     "metadata": {},
     "output_type": "execute_result"
    }
   ],
   "source": [
    "M = np.array([[1,2,3],[3,4,5],[5,4,3],[0,2,4],[1,3,5]])\n",
    "M"
   ]
  },
  {
   "cell_type": "code",
   "execution_count": 3,
   "metadata": {
    "collapsed": false
   },
   "outputs": [
    {
     "data": {
      "text/plain": [
       "array([[1, 3, 5, 0, 1],\n",
       "       [2, 4, 4, 2, 3],\n",
       "       [3, 5, 3, 4, 5]])"
      ]
     },
     "execution_count": 3,
     "metadata": {},
     "output_type": "execute_result"
    }
   ],
   "source": [
    "MT = M.transpose()\n",
    "MT"
   ]
  },
  {
   "cell_type": "code",
   "execution_count": 4,
   "metadata": {
    "collapsed": false
   },
   "outputs": [
    {
     "data": {
      "text/plain": [
       "array([[36, 37, 38],\n",
       "       [37, 49, 61],\n",
       "       [38, 61, 84]])"
      ]
     },
     "execution_count": 4,
     "metadata": {},
     "output_type": "execute_result"
    }
   ],
   "source": [
    "#part a) MT  M\n",
    "MTM = MT.dot(M)\n",
    "MTM"
   ]
  },
  {
   "cell_type": "code",
   "execution_count": 5,
   "metadata": {
    "collapsed": false
   },
   "outputs": [
    {
     "data": {
      "text/plain": [
       "array([[14, 26, 22, 16, 22],\n",
       "       [26, 50, 46, 28, 40],\n",
       "       [22, 46, 50, 20, 32],\n",
       "       [16, 28, 20, 20, 26],\n",
       "       [22, 40, 32, 26, 35]])"
      ]
     },
     "execution_count": 5,
     "metadata": {},
     "output_type": "execute_result"
    }
   ],
   "source": [
    "# M MT\n",
    "MMT = M.dot(MT)\n",
    "MMT"
   ]
  },
  {
   "cell_type": "code",
   "execution_count": 6,
   "metadata": {
    "collapsed": false
   },
   "outputs": [
    {
     "name": "stdout",
     "output_type": "stream",
     "text": [
      "153.56699646\n",
      "15.43300354\n",
      "[ 0.40928285  0.56345932  0.7176358 ]\n",
      "[-0.81597848 -0.12588456  0.56420935]\n"
     ]
    }
   ],
   "source": [
    "# part B\n",
    "# eigenvector and eigenvalue of MTM \n",
    "egv_MTM, egvt_MTM = la.eig(MTM)\n",
    "print (egv_MTM[0].real)\n",
    "print (egv_MTM[1].real)\n",
    "MTM_V1 = -1*egvt_MTM[:,0].real\n",
    "print (MTM_V1)\n",
    "MTM_V2 = egvt_MTM[:,1].real\n",
    "print (MTM_V2)"
   ]
  },
  {
   "cell_type": "code",
   "execution_count": 7,
   "metadata": {
    "collapsed": false
   },
   "outputs": [
    {
     "name": "stdout",
     "output_type": "stream",
     "text": [
      "153.56699646\n",
      "15.43300354\n",
      "[ 0.29769568  0.57050856  0.52074297  0.32257847  0.45898491]\n",
      "[-0.15906393  0.0332003   0.73585663 -0.5103921  -0.41425998]\n"
     ]
    }
   ],
   "source": [
    "# egienvector and eigenvalue of MMT, only get index 0 and 2\n",
    "# part C\n",
    "egv_MMT, egvt_MMT = la.eig(MMT)\n",
    "print (egv_MMT[0].real)\n",
    "print (egv_MMT[2].real)\n",
    "MMT_V1 =  egvt_MMT[:,0].real\n",
    "print (MMT_V1)\n",
    "MMT_V2 =  egvt_MMT[:,2].real\n",
    "print (MMT_V2)\n"
   ]
  },
  {
   "cell_type": "code",
   "execution_count": 8,
   "metadata": {
    "collapsed": false
   },
   "outputs": [
    {
     "name": "stdout",
     "output_type": "stream",
     "text": [
      "[[ 0.29769568 -0.15906393]\n",
      " [ 0.57050856  0.0332003 ]\n",
      " [ 0.52074297  0.73585663]\n",
      " [ 0.32257847 -0.5103921 ]\n",
      " [ 0.45898491 -0.41425998]]\n"
     ]
    }
   ],
   "source": [
    "# part D\n",
    "# The left-singular vectors of M are a set of orthonormal eigenvectors of MMT\n",
    "\n",
    "U = np.vstack((egvt_MMT[:,0].real, egvt_MMT[:,2].real)).T\n",
    "print (U)"
   ]
  },
  {
   "cell_type": "code",
   "execution_count": 9,
   "metadata": {
    "collapsed": false
   },
   "outputs": [
    {
     "name": "stdout",
     "output_type": "stream",
     "text": [
      "[[ 12.39221516   0.        ]\n",
      " [  0.           3.92848616]]\n"
     ]
    }
   ],
   "source": [
    "# using part b and part c to calculate U, sigma, Vt\n",
    "# sigma = the square roots of the eigenvalues for MTM\n",
    "sigma = np.zeros(shape = (2,2))\n",
    "import math\n",
    "for i in range(2):\n",
    "    sigma[i][i] = math.sqrt(egv_MTM[i])\n",
    "print (sigma)"
   ]
  },
  {
   "cell_type": "code",
   "execution_count": 10,
   "metadata": {
    "collapsed": false
   },
   "outputs": [
    {
     "name": "stdout",
     "output_type": "stream",
     "text": [
      "[[ 0.40928285 -0.81597848]\n",
      " [ 0.56345932 -0.12588456]\n",
      " [ 0.7176358   0.56420935]]\n"
     ]
    }
   ],
   "source": [
    "# V is eigenvectors of MMT\n",
    "# http://stackoverflow.com/questions/17710672/create-2-dimensional-array-with-2-one-dimensional-array\n",
    "V = np.vstack((-1*egvt_MTM[:,0].real, egvt_MTM[:,1].real)).T\n",
    "print (V)\n"
   ]
  },
  {
   "cell_type": "code",
   "execution_count": 11,
   "metadata": {
    "collapsed": false
   },
   "outputs": [
    {
     "name": "stdout",
     "output_type": "stream",
     "text": [
      "[[ 12.39221516   0.        ]\n",
      " [  0.           3.92848616]]\n"
     ]
    }
   ],
   "source": [
    "# change smaller singular value to zero\n",
    "new_sigma = sigma.copy()\n",
    "new_sigma[1][1] = 0\n",
    "print (sigma)"
   ]
  },
  {
   "cell_type": "code",
   "execution_count": 12,
   "metadata": {
    "collapsed": false
   },
   "outputs": [
    {
     "name": "stdout",
     "output_type": "stream",
     "text": [
      "[[ 1.509889    2.0786628   2.64743661]\n",
      " [ 2.89357443  3.98358126  5.0735881 ]\n",
      " [ 2.64116728  3.63609257  4.63101787]\n",
      " [ 1.63609257  2.25240715  2.86872172]\n",
      " [ 2.32793529  3.20486638  4.08179747]]\n"
     ]
    }
   ],
   "source": [
    "# part e\n",
    "new_M = (U.dot(new_sigma)).dot(V.T)\n",
    "print (new_M)"
   ]
  },
  {
   "cell_type": "code",
   "execution_count": 13,
   "metadata": {
    "collapsed": false
   },
   "outputs": [
    {
     "name": "stdout",
     "output_type": "stream",
     "text": [
      "0.908680452426\n"
     ]
    }
   ],
   "source": [
    "# part f \n",
    "sum_energy = 0\n",
    "for i in range(len(sigma)):\n",
    "    sum_energy += sigma[i][i] * sigma[i][i]\n",
    "energy = new_sigma[0][0] * new_sigma[0][0] / sum_energy\n",
    "print (energy)"
   ]
  },
  {
   "cell_type": "code",
   "execution_count": null,
   "metadata": {
    "collapsed": false
   },
   "outputs": [],
   "source": []
  },
  {
   "cell_type": "code",
   "execution_count": null,
   "metadata": {
    "collapsed": true
   },
   "outputs": [],
   "source": []
  }
 ],
 "metadata": {
  "anaconda-cloud": {},
  "kernelspec": {
   "display_name": "Python [Root]",
   "language": "python",
   "name": "Python [Root]"
  },
  "language_info": {
   "codemirror_mode": {
    "name": "ipython",
    "version": 3
   },
   "file_extension": ".py",
   "mimetype": "text/x-python",
   "name": "python",
   "nbconvert_exporter": "python",
   "pygments_lexer": "ipython3",
   "version": "3.5.2"
  }
 },
 "nbformat": 4,
 "nbformat_minor": 0
}
