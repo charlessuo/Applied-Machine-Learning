{
 "cells": [
  {
   "cell_type": "code",
   "execution_count": 2,
   "metadata": {
    "collapsed": false
   },
   "outputs": [],
   "source": [
    "import itertools\n",
    "import numpy as np\n",
    "from matplotlib import pylab as pt\n",
    "import string\n",
    "from sklearn.linear_model import LogisticRegression\n",
    "import numpy.linalg as la\n",
    "import random\n",
    "from nltk.stem import PorterStemmer, WordNetLemmatizer\n",
    "import nltk\n",
    "from sklearn import svm, datasets\n",
    "\n",
    "from sklearn.metrics import confusion_matrix\n",
    "# nltk.download()\n",
    "from nltk.corpus import stopwords\n",
    "%matplotlib inline  \n"
   ]
  },
  {
   "cell_type": "code",
   "execution_count": 3,
   "metadata": {
    "collapsed": false
   },
   "outputs": [],
   "source": [
    "# http://stackoverflow.com/questions/16050952/how-to-remove-all-the-punctuation-in-a-string-python\n",
    "# parsed into the data and removed punctuation, also lower the string\n",
    "# AKA: preprocessing\n",
    "\n",
    "def parseInFile(name):\n",
    "    with open (name) as f:\n",
    "        lines = f.readlines()\n",
    "    X_data = []\n",
    "    Y_label = []\n",
    "    translator = str.maketrans({key: None for key in string.punctuation})\n",
    "   \n",
    "    for line in lines:\n",
    "        temp = line.split('\\t')\n",
    "        word = temp[0].lower().translate(translator)\n",
    "        X_data.append(word)\n",
    "        temp2 = temp[1].split('\\n')\n",
    "        Y_label.append(temp2[0])\n",
    "        \n",
    "    return X_data, Y_label\n",
    "        \n",
    "    \n",
    "    "
   ]
  },
  {
   "cell_type": "code",
   "execution_count": 4,
   "metadata": {
    "collapsed": false
   },
   "outputs": [],
   "source": [
    "# part C\n",
    "def splitDataSet(data, label):\n",
    "    count_pos = 0\n",
    "    count_neg = 0\n",
    "    i = 0\n",
    "    X_train = []\n",
    "    Y_train = []\n",
    "    X_test = []\n",
    "    Y_test = []\n",
    "    while(i < 1000):\n",
    "        if(label[i] == '1' and count_pos < 400):\n",
    "            X_train.append(data[i])\n",
    "            Y_train.append(label[i])\n",
    "            count_pos = count_pos + 1\n",
    "        elif(label[i] == '0' and count_neg < 400):\n",
    "            X_train.append(data[i])\n",
    "            Y_train.append(label[i])\n",
    "            count_neg = count_neg + 1\n",
    "        else:\n",
    "            if(label[i] == '0'):\n",
    "                count_neg = count_neg + 1\n",
    "            if(label[i] == '1'):\n",
    "                count_pos = count_pos + 1\n",
    "            X_test.append(data[i])\n",
    "            Y_test.append(label[i])\n",
    "        i = i + 1\n",
    "    print ('The # postive review is ' + str(count_pos) + ', the # negative review is ' + str(count_neg))\n",
    "    return X_train, Y_train, X_test, Y_test\n",
    "            \n",
    "            "
   ]
  },
  {
   "cell_type": "code",
   "execution_count": 5,
   "metadata": {
    "collapsed": true
   },
   "outputs": [],
   "source": [
    "# k means \n",
    "def kmeans(word_dict, X_norm_train, k, iteration):\n",
    "\n",
    "    size = len(word_dict)\n",
    "    n = len(X_norm_train)\n",
    "    # generate random number between 0-1 for n\n",
    "    c = []\n",
    "    for i in range(n):\n",
    "        c.append(random.randint(0, k-1))\n",
    "    # print (c)\n",
    "    for i in range(iteration):\n",
    "        m_0 = np.zeros(size)\n",
    "        m_1 = np.zeros(size)\n",
    "        for j in range(n):\n",
    "            if c[j] == 0:\n",
    "                m_0 += X_norm_train[j, :]\n",
    "            else:\n",
    "                m_1 += X_norm_train[j, :]\n",
    "        m_0 = m_0/float(n-sum(c))\n",
    "        m_1 = m_1/float(sum(c))\n",
    "        for j in range(n):\n",
    "            if la.norm(X_norm_train[j, :] - m_0) < la.norm(X_norm_train[j, :] -m_1):\n",
    "                c[j] = 0\n",
    "            else:\n",
    "                c[j] = 1\n",
    "\n",
    "    return c, m_0, m_1"
   ]
  },
  {
   "cell_type": "code",
   "execution_count": 6,
   "metadata": {
    "collapsed": false
   },
   "outputs": [
    {
     "name": "stdout",
     "output_type": "stream",
     "text": [
      "1000\n"
     ]
    }
   ],
   "source": [
    "X_AMZ, Y_AMZ = parseInFile('sentiment labelled sentences/amazon_cells_labelled.txt')\n",
    "X_YELP, Y_YELP = parseInFile('sentiment labelled sentences/yelp_labelled.txt')\n",
    "X_IMDB, Y_IMDB = parseInFile('sentiment labelled sentences/imdb_labelled.txt')\n",
    "print (len(Y_AMZ))\n"
   ]
  },
  {
   "cell_type": "code",
   "execution_count": 7,
   "metadata": {
    "collapsed": false
   },
   "outputs": [
    {
     "name": "stdout",
     "output_type": "stream",
     "text": [
      "The # postive review is 500, the # negative review is 500\n",
      "The # postive review is 500, the # negative review is 500\n",
      "The # postive review is 500, the # negative review is 500\n"
     ]
    }
   ],
   "source": [
    "AMZ_X_train, AMZ_Y_train, AMZ_X_test, AMZ_Y_test = splitDataSet(X_AMZ, Y_AMZ)\n",
    "YELP_X_train, YELP_Y_train, YELP_X_test, YELP_Y_test = splitDataSet(X_YELP, Y_YELP)\n",
    "IMDB_X_train, IMDB_Y_train, IMDB_X_test, IMDB_Y_test = splitDataSet(X_IMDB, Y_IMDB)\n"
   ]
  },
  {
   "cell_type": "code",
   "execution_count": 8,
   "metadata": {
    "collapsed": false
   },
   "outputs": [
    {
     "name": "stdout",
     "output_type": "stream",
     "text": [
      "training data length is 2400, test data length is 600\n",
      "(2400, 4243)\n",
      "(600, 4243)\n",
      "4243\n"
     ]
    }
   ],
   "source": [
    "# part D Bag of Words Implementation\n",
    "# Explain why we can’t use testing set at this point\n",
    "\n",
    "# First, we combine all training data and test data\n",
    "X_train = AMZ_X_train + YELP_X_train + IMDB_X_train\n",
    "Y_train = AMZ_Y_train + YELP_Y_train + IMDB_Y_train\n",
    "\n",
    "X_test = AMZ_X_test + YELP_X_test + IMDB_X_test\n",
    "Y_test = AMZ_Y_test + YELP_Y_test + IMDB_Y_test\n",
    "\n",
    "print (\"training data length is \" + str(len(X_train)) + \", test data length is \" + str(len(X_test)))\n",
    "# creat dict first\n",
    "word_dict = {}\n",
    "stop = set(stopwords.words('english'))\n",
    "wnl = WordNetLemmatizer()\n",
    "dict_count = 0\n",
    "for i in range(len(X_train)):\n",
    "    temps = X_train[i].split()\n",
    "    for temp in temps:\n",
    "        temp = wnl.lemmatize(temp)\n",
    "        if temp not in word_dict:\n",
    "            if temp not in stop:\n",
    "                word_dict[temp] = dict_count\n",
    "                dict_count += 1\n",
    "\n",
    "\n",
    "# build the feature vector\n",
    "X_feature_train = []\n",
    "for i in range(len(X_train)):\n",
    "    vector = np.zeros(dict_count)\n",
    "    temps = X_train[i].split()\n",
    "    for temp in temps:\n",
    "        temp = wnl.lemmatize(temp)\n",
    "        if temp in word_dict:\n",
    "            vector[word_dict[temp]] += 1\n",
    "    X_feature_train.append(vector)\n",
    "        \n",
    "X_feature_train = np.array(X_feature_train)\n",
    "print (X_feature_train.shape)\n",
    "\n",
    "\n",
    "X_feature_test = []\n",
    "for i in range(len(X_test)):\n",
    "    vector = np.zeros(dict_count)\n",
    "    temps = X_test[i].split()\n",
    "    for temp in temps:\n",
    "        temp = wnl.lemmatize(temp)\n",
    "        if temp in word_dict:\n",
    "            vector[word_dict[temp]] += 1\n",
    "    X_feature_test.append(vector)\n",
    "X_feature_test = np.array(X_feature_test)\n",
    "print (X_feature_test.shape)\n",
    "print (len(word_dict))"
   ]
  },
  {
   "cell_type": "code",
   "execution_count": 9,
   "metadata": {
    "collapsed": false
   },
   "outputs": [
    {
     "name": "stdout",
     "output_type": "stream",
     "text": [
      "[ 1.  1.  1. ...,  0.  0.  0.]\n"
     ]
    },
    {
     "data": {
      "image/png": "[encoded data removed]",
      "text/plain": [
       "<matplotlib.figure.Figure at 0x10fb14080>"
      ]
     },
     "metadata": {},
     "output_type": "display_data"
    },
    {
     "name": "stdout",
     "output_type": "stream",
     "text": [
      "[ 0.  0.  0. ...,  1.  1.  1.]\n"
     ]
    },
    {
     "data": {
      "image/png": "[encoded data removed]",
      "text/plain": [
       "<matplotlib.figure.Figure at 0x1182507f0>"
      ]
     },
     "metadata": {},
     "output_type": "display_data"
    }
   ],
   "source": [
    "print (X_feature_train[0])\n",
    "Xs = np.arange(dict_count)\n",
    "pt.plot(Xs, X_feature_train[0,:])\n",
    "pt.title('Bag of Words for First Review In Train Set')\n",
    "pt.show()\n",
    "\n",
    "print (X_feature_train[-1])\n",
    "pt.title('Bag of Words for Last Review in Train Set')\n",
    "pt.plot(Xs, X_feature_train[-1,:])\n",
    "pt.show()"
   ]
  },
  {
   "cell_type": "code",
   "execution_count": 10,
   "metadata": {
    "collapsed": false
   },
   "outputs": [],
   "source": [
    "# e post processing now\n",
    "# I choose l2 normalization\n",
    "X_norm_train = np.zeros(X_feature_train.shape)\n",
    "for i in range(len(X_train)):\n",
    "    if (la.norm(X_feature_train[i,:]) != 0):\n",
    "        X_norm_train[i,:] = X_feature_train[i,:]/float(la.norm(X_feature_train[i,:]))\n",
    "# print (X_norm_train[0,:])\n",
    "X_norm_test = np.zeros(X_feature_test.shape)\n",
    "for i in range(len(X_test)):\n",
    "    if (la.norm(X_feature_test[i,:]) != 0):\n",
    "        X_norm_test[i,:] = X_feature_test[i,:]/float(la.norm(X_feature_test[i,:]))\n",
    "    else:\n",
    "        X_norm_test[i,:] = X_feature_test[i,:]\n",
    "# print (X_norm_test[0,:])"
   ]
  },
  {
   "cell_type": "code",
   "execution_count": 11,
   "metadata": {
    "collapsed": false
   },
   "outputs": [
    {
     "data": {
      "image/png": "[encoded data removed]",
      "text/plain": [
       "<matplotlib.figure.Figure at 0x1185b9e48>"
      ]
     },
     "metadata": {},
     "output_type": "display_data"
    },
    {
     "data": {
      "image/png": "[encoded data removed]",
      "text/plain": [
       "<matplotlib.figure.Figure at 0x118697da0>"
      ]
     },
     "metadata": {},
     "output_type": "display_data"
    }
   ],
   "source": [
    "c, m_0, m_1 = kmeans(word_dict, X_norm_train, 2, 20)\n",
    "size = len(word_dict)\n",
    "Xs = np.arange(size)\n",
    "pt.figure()\n",
    "pt.title('Bag of Words Mean Vector in Negative Review')\n",
    "pt.plot(Xs, m_0)\n",
    "pt.show()\n",
    "pt.title('Bag of Words Mean Vector in Postive Review')\n",
    "pt.plot(Xs, m_1)\n",
    "pt.show()"
   ]
  },
  {
   "cell_type": "code",
   "execution_count": 12,
   "metadata": {
    "collapsed": false
   },
   "outputs": [
    {
     "name": "stdout",
     "output_type": "stream",
     "text": [
      "K means accuracy is 0.40625\n"
     ]
    }
   ],
   "source": [
    "def get_accuracy(c, Y_train):\n",
    "    count = 0\n",
    "    for i in range(len(c)):\n",
    "        if str(c[i])  == Y_train[i]:\n",
    "            count +=1\n",
    "    accuracy = count / float(len(c))\n",
    "    return (accuracy)\n",
    "print (\"K means accuracy is \" + str(get_accuracy(c, Y_train)))"
   ]
  },
  {
   "cell_type": "code",
   "execution_count": 19,
   "metadata": {
    "collapsed": false
   },
   "outputs": [],
   "source": [
    "# http://scikit-learn.org/stable/modules/linear_model.html\n",
    "def get_key_words_and_accuracy(word_dict,X_norm_train, Y_train, X_norm_test, Y_test, threhold):\n",
    "    from sklearn.metrics import confusion_matrix\n",
    "    class_name=['0','1']\n",
    "    lg = LogisticRegression()\n",
    "    lg.fit(X_norm_train, Y_train)\n",
    "    lg_pred = lg.predict(X_norm_test)\n",
    "    pt.figure()\n",
    "    cnf_matrix = confusion_matrix(Y_test, lg_pred)\n",
    "    plot_confusion_matrix(cnf_matrix, classes=class_name, normalize=True,\n",
    "                      title='Normalized confusion matrix')\n",
    "    pt.show()\n",
    "    count = 0\n",
    "    for i in range(len(lg_pred)):\n",
    "        if lg_pred[i]  == Y_test[i]:\n",
    "            count +=1\n",
    "    accuracy = count / float(len(lg_pred))\n",
    "    print (\"logistic regression accuracy is \" + str(accuracy) + \"!\")\n",
    "\n",
    "    coeff = lg.coef_[0]\n",
    "    key_index = []\n",
    "    key_words = []\n",
    "    for i in range(len(coeff)):\n",
    "        if abs(coeff[i]) > threhold:\n",
    "            key_index.append(i)\n",
    "    for index in key_index:\n",
    "        for k in word_dict:\n",
    "            if word_dict[k] == index:\n",
    "                key_words.append(k)\n",
    "\n",
    "    return key_words\n",
    "    "
   ]
  },
  {
   "cell_type": "code",
   "execution_count": 20,
   "metadata": {
    "collapsed": false
   },
   "outputs": [],
   "source": [
    "# http://scikit-learn.org/stable/auto_examples/model_selection/plot_confusion_matrix.html#sphx-glr-auto-examples-model-selection-plot-confusion-matrix-py\n",
    "def plot_confusion_matrix(cm, classes,\n",
    "                          normalize=False,\n",
    "                          title='Confusion matrix',\n",
    "                          cmap=pt.cm.Blues):\n",
    "    pt.imshow(cm, interpolation='nearest', cmap=cmap)\n",
    "    pt.title(title)\n",
    "    pt.colorbar()\n",
    "    tick_marks = np.arange(len(classes))\n",
    "    pt.xticks(tick_marks, classes, rotation=45)\n",
    "    pt.yticks(tick_marks, classes)\n",
    "\n",
    "    if normalize:\n",
    "        cm = cm.astype('float') / cm.sum(axis=1)[:, np.newaxis]\n",
    "        print(\"Normalized confusion matrix\")\n",
    "    else:\n",
    "        print('Confusion matrix, without normalization')\n",
    "\n",
    "    print(cm)\n",
    "\n",
    "    thresh = cm.max() / 2.\n",
    "    for i, j in itertools.product(range(cm.shape[0]), range(cm.shape[1])):\n",
    "        pt.text(j, i, cm[i, j],\n",
    "                 horizontalalignment=\"center\",\n",
    "                 color=\"white\" if cm[i, j] > thresh else \"black\")\n",
    "\n",
    "    pt.tight_layout()\n",
    "    pt.ylabel('True label')\n",
    "    pt.xlabel('Predicted label')"
   ]
  },
  {
   "cell_type": "code",
   "execution_count": 21,
   "metadata": {
    "collapsed": false
   },
   "outputs": [
    {
     "name": "stdout",
     "output_type": "stream",
     "text": [
      "Normalized confusion matrix\n",
      "[[ 0.84  0.16]\n",
      " [ 0.28  0.72]]\n"
     ]
    },
    {
     "data": {
      "image/png": "[encoded data removed]",
      "text/plain": [
       "<matplotlib.figure.Figure at 0x118515ac8>"
      ]
     },
     "metadata": {},
     "output_type": "display_data"
    },
    {
     "name": "stdout",
     "output_type": "stream",
     "text": [
      "logistic regression accuracy is 0.78!\n",
      "['good', 'excellent', 'great', 'waste', 'comfortable', 'loved', 'best', 'didnt', 'doesnt', 'well', 'poor', 'fine', 'nice', 'love', 'happy', 'bad', 'cool', 'beautiful', 'dont', 'minute', 'fantastic', 'slow', 'awesome', 'worst', 'horrible', 'disappointment', 'terrible', 'disappointing', 'stupid', 'nothing', 'friendly', 'liked', 'amazing', 'awful', 'wonderful', 'delicious', 'interesting']\n"
     ]
    }
   ],
   "source": [
    "\n",
    "print (get_key_words_and_accuracy(word_dict, X_norm_train, Y_train, X_norm_test, Y_test,1.34))"
   ]
  },
  {
   "cell_type": "code",
   "execution_count": null,
   "metadata": {
    "collapsed": true
   },
   "outputs": [],
   "source": [
    "\n"
   ]
  },
  {
   "cell_type": "code",
   "execution_count": 22,
   "metadata": {
    "collapsed": false
   },
   "outputs": [
    {
     "name": "stdout",
     "output_type": "stream",
     "text": [
      "(2400, 16834)\n",
      "(600, 4243)\n"
     ]
    }
   ],
   "source": [
    "#h) N-gram model\n",
    "# creat dict first\n",
    "gram_dict = {}\n",
    "gram_count = 0\n",
    "# iterate over the entire reviews\n",
    "for i in range(len(X_train)):\n",
    "    review = X_train[i].split()\n",
    "    for j in range(len(review) - 1):\n",
    "        \n",
    "        gram_word = review[j] + \" \" + review[j + 1]\n",
    "        if gram_word not in gram_dict:\n",
    "            gram_dict[gram_word] = gram_count\n",
    "            gram_count += 1\n",
    "\n",
    "\n",
    "# build the feature vector\n",
    "X_gram_train = []\n",
    "for i in range(len(X_train)):\n",
    "    vector = np.zeros(gram_count)\n",
    "    review = X_train[i].split()\n",
    "    for j in range(len(review) - 1):\n",
    "        review[j] = wnl.lemmatize(review[j])\n",
    "        review[j + 1] = wnl.lemmatize(review[j + 1])\n",
    "        if review[j] and review[j + 1] not in stop:\n",
    "            gram_word = review[j] + \" \" + review[j + 1]\n",
    "            if gram_word in gram_dict:\n",
    "                vector[gram_dict[gram_word]] += 1\n",
    "    X_gram_train.append(vector)\n",
    "        \n",
    "X_gram_train = np.array(X_gram_train)\n",
    "print (X_gram_train.shape)\n",
    "\n",
    "\n",
    "X_gram_test = []\n",
    "for i in range(len(X_test)):\n",
    "    vector = np.zeros(gram_count)\n",
    "    review = X_test[i].split()\n",
    "    for j in range(len(review) - 1):\n",
    "        review[j] = wnl.lemmatize(review[j])\n",
    "        review[j + 1] = wnl.lemmatize(review[j + 1])\n",
    "        if review[j] and review[j + 1] not in stop:\n",
    "            gram_word = review[j] + \" \" + review[j + 1]\n",
    "            if gram_word in gram_dict:\n",
    "                vector[gram_dict[gram_word]] += 1\n",
    "    X_gram_test.append(vector)\n",
    "X_gram_test = np.array(X_gram_test)\n",
    "print (X_feature_test.shape)"
   ]
  },
  {
   "cell_type": "code",
   "execution_count": 23,
   "metadata": {
    "collapsed": false
   },
   "outputs": [
    {
     "data": {
      "image/png": "[encoded data removed]",
      "text/plain": [
       "<matplotlib.figure.Figure at 0x12c06dac8>"
      ]
     },
     "metadata": {},
     "output_type": "display_data"
    },
    {
     "name": "stdout",
     "output_type": "stream",
     "text": [
      "[ 0.  0.  0. ...,  1.  1.  1.]\n"
     ]
    },
    {
     "data": {
      "image/png": "[encoded data removed]",
      "text/plain": [
       "<matplotlib.figure.Figure at 0x1185c9e48>"
      ]
     },
     "metadata": {},
     "output_type": "display_data"
    }
   ],
   "source": [
    "Xs = np.arange(gram_count)\n",
    "pt.figure()\n",
    "pt.title('2-Gram for 1st Review In Train Set')\n",
    "pt.plot(Xs, X_gram_train[0,:])\n",
    "pt.show()\n",
    "print (X_feature_train[-1])\n",
    "pt.title('2-Gram for Last Review in Train Set')\n",
    "pt.plot(Xs, X_gram_train[-1,:])\n",
    "pt.show()"
   ]
  },
  {
   "cell_type": "code",
   "execution_count": 24,
   "metadata": {
    "collapsed": false
   },
   "outputs": [],
   "source": [
    "Xg_norm_train = np.zeros(X_gram_train.shape)\n",
    "for i in range(len(X_train)):\n",
    "    if float(sum(X_gram_train[i,:])) != 0:\n",
    "        Xg_norm_train[i,:] = X_gram_train[i,:]/la.norm(sum(X_gram_train[i,:]))\n",
    "# print (X_norm_train[0,:])\n",
    "Xg_norm_test = np.zeros(X_gram_test.shape)\n",
    "for i in range(len(X_test)):\n",
    "    if float(sum(X_gram_test[i,:])) != 0:\n",
    "        Xg_norm_test[i,:] = X_gram_test[i,:]/la.norm(sum(X_gram_test[i,:]))"
   ]
  },
  {
   "cell_type": "code",
   "execution_count": 25,
   "metadata": {
    "collapsed": false
   },
   "outputs": [
    {
     "data": {
      "image/png": "[encoded data removed]",
      "text/plain": [
       "<matplotlib.figure.Figure at 0x12bd15668>"
      ]
     },
     "metadata": {},
     "output_type": "display_data"
    },
    {
     "data": {
      "image/png": "[encoded data removed]",
      "text/plain": [
       "<matplotlib.figure.Figure at 0x118537f60>"
      ]
     },
     "metadata": {},
     "output_type": "display_data"
    }
   ],
   "source": [
    "gc, gm_0, gm_1 = kmeans(gram_dict, Xg_norm_train, 2, 20)\n",
    "size = len(gram_dict)\n",
    "Xs = np.arange(size)\n",
    "pt.figure()\n",
    "pt.title('2-Gram Mean Vector in Negative Review')\n",
    "pt.plot(Xs, gm_0)\n",
    "pt.show()\n",
    "pt.title('2-Gram Mean Vector in Postive Review')\n",
    "pt.plot(Xs,gm_1)\n",
    "pt.show()"
   ]
  },
  {
   "cell_type": "code",
   "execution_count": 26,
   "metadata": {
    "collapsed": false
   },
   "outputs": [
    {
     "name": "stdout",
     "output_type": "stream",
     "text": [
      "K means accuracy is 0.4975\n"
     ]
    }
   ],
   "source": [
    "print (\"K means accuracy is \" + str(get_accuracy(gc, Y_train)))\n"
   ]
  },
  {
   "cell_type": "code",
   "execution_count": 27,
   "metadata": {
    "collapsed": false
   },
   "outputs": [
    {
     "name": "stdout",
     "output_type": "stream",
     "text": [
      "the keywords for 2-Gram is : \n",
      "Normalized confusion matrix\n",
      "[[ 0.81        0.19      ]\n",
      " [ 0.43666667  0.56333333]]\n"
     ]
    },
    {
     "data": {
      "image/png": "[encoded data removed]",
      "text/plain": [
       "<matplotlib.figure.Figure at 0x1186b9e48>"
      ]
     },
     "metadata": {},
     "output_type": "display_data"
    },
    {
     "name": "stdout",
     "output_type": "stream",
     "text": [
      "logistic regression accuracy is 0.6866666666666666!\n",
      "['very good', 'the best', 'a great', 'i love', 'the price', 'very disappointed', 'dont waste', 'not work', 'great product', 'the service', 'is good', 'great phone', 'work great', 'the worst', 'not good', 'an excellent', 'i loved', 'i liked']\n"
     ]
    }
   ],
   "source": [
    "print (\"the keywords for 2-Gram is : \")\n",
    "print (get_key_words_and_accuracy(gram_dict, Xg_norm_train, Y_train, Xg_norm_test, Y_test, 1.0))"
   ]
  },
  {
   "cell_type": "code",
   "execution_count": null,
   "metadata": {
    "collapsed": false
   },
   "outputs": [],
   "source": []
  },
  {
   "cell_type": "code",
   "execution_count": null,
   "metadata": {
    "collapsed": true
   },
   "outputs": [],
   "source": [
    "def PCA(X_norm_train, X_norm_test, dimension):\n",
    "    U, D, VT = la.svd(X_norm_train)\n",
    "    VqT = VT[:dimension]\n",
    "    X_train_pca = np.zeros((len(X_norm_train), dimension))\n",
    "    for i in range(len(X_norm_train)):\n",
    "        X_train_pca[i, :] = VqT.dot(X_norm_train[i, :])\n",
    "    X_test_pca = np.zeros((len(X_norm_test), dimension))\n",
    "    for i in range(len(X_norm_test)):\n",
    "        X_test_pca[i, :] = VqT.dot(X_norm_test[i, :])\n",
    "    \n",
    "    size = dimension\n",
    "    iterations = 20\n",
    "    n = len(X_train_pca)\n",
    "    c = []\n",
    "    for i in range(n):\n",
    "        c.append(random.randint(0, 1))\n",
    "    # print (c)\n",
    "    for i in range(iterations):\n",
    "        m_0 = np.zeros(size)\n",
    "        m_1 = np.zeros(size)\n",
    "        for j in range(n):\n",
    "            if c[j] == 0:\n",
    "                m_0 += X_train_pca[j, :]\n",
    "            else:\n",
    "                m_1 += X_train_pca[j, :]\n",
    "        m_0 = m_0/float(n-sum(c))\n",
    "        m_1 = m_1/float(sum(c))\n",
    "        for j in range(n):\n",
    "            if la.norm(X_train_pca[j, :] - m_0) < la.norm(X_train_pca[j, :] -m_1):\n",
    "                c[j] = 0\n",
    "            else:\n",
    "                c[j] = 1\n",
    "\n",
    "    return c, m_0, m_1, X_train_pca, X_test_pca"
   ]
  },
  {
   "cell_type": "code",
   "execution_count": null,
   "metadata": {
    "collapsed": false
   },
   "outputs": [],
   "source": [
    "c_pca10, m_0_pca10, m_1_pca10, X_train_pca10, X_test_pca10 = PCA(X_norm_train, X_norm_test, 10)"
   ]
  },
  {
   "cell_type": "code",
   "execution_count": null,
   "metadata": {
    "collapsed": false
   },
   "outputs": [],
   "source": [
    "print (\"K means accuracy is \" + str(get_accuracy(c_pca10, Y_train)))\n"
   ]
  },
  {
   "cell_type": "code",
   "execution_count": null,
   "metadata": {
    "collapsed": false
   },
   "outputs": [],
   "source": [
    "Xs = np.arange(10)\n",
    "pt.figure()\n",
    "pt.title('PCA-10 for Mean Vector in Negative Review')\n",
    "pt.plot(Xs, m_0_pca10)\n",
    "pt.show()\n",
    "pt.title('PCA-10 for Mean Vector in Postive Review')\n",
    "pt.plot(Xs, m_1_pca10)\n",
    "pt.show()"
   ]
  },
  {
   "cell_type": "code",
   "execution_count": null,
   "metadata": {
    "collapsed": true
   },
   "outputs": [],
   "source": [
    "def get_lr_accuracy(X_train_pca, Y_train, X_test_pca, Y_test):\n",
    "    lg = LogisticRegression()\n",
    "    lg.fit(X_train_pca, Y_train)\n",
    "    lg_pred = lg.predict(X_test_pca)\n",
    "    count = 0\n",
    "    for i in range(len(lg_pred)):\n",
    "        if lg_pred[i]  == Y_test[i]:\n",
    "            count +=1\n",
    "    accuracy = count / float(len(lg_pred))\n",
    "    return accuracy\n",
    " "
   ]
  },
  {
   "cell_type": "code",
   "execution_count": null,
   "metadata": {
    "collapsed": false
   },
   "outputs": [],
   "source": [
    "print (\"logistic regression accuracy for PCA10 is \" + str(get_lr_accuracy(X_train_pca10, Y_train, X_test_pca10, Y_test)) + \"!\")"
   ]
  },
  {
   "cell_type": "code",
   "execution_count": null,
   "metadata": {
    "collapsed": false
   },
   "outputs": [],
   "source": [
    "c_pca50, m_0_pca50, m_1_pca50, X_train_pca50, X_test_pca50 = PCA(X_norm_train, X_norm_test, 50)\n",
    "print (get_accuracy(c_pca50, Y_train))"
   ]
  },
  {
   "cell_type": "code",
   "execution_count": null,
   "metadata": {
    "collapsed": false
   },
   "outputs": [],
   "source": [
    "Xs = np.arange(50)\n",
    "pt.figure()\n",
    "pt.title('PCA-50 for Mean Vector in Negative Review')\n",
    "pt.plot(Xs, m_0_pca50)\n",
    "pt.show()\n",
    "pt.title('PCA-50 for Mean Vector in Postive Review')\n",
    "pt.plot(Xs, m_1_pca50)\n",
    "pt.show()"
   ]
  },
  {
   "cell_type": "code",
   "execution_count": null,
   "metadata": {
    "collapsed": false
   },
   "outputs": [],
   "source": [
    "print (\"logistic regression for PCA50 accuracy is \" + str(get_lr_accuracy(X_train_pca50, Y_train, X_test_pca50, Y_test)) + \"!\")"
   ]
  },
  {
   "cell_type": "code",
   "execution_count": null,
   "metadata": {
    "collapsed": false
   },
   "outputs": [],
   "source": [
    "c_pca100, m_0_pca100, m_1_pca100, X_train_pca100, X_test_pca100 = PCA(X_norm_train, X_norm_test, 100)\n",
    "print (\"K means accuracy is \" + str(get_accuracy(c_pca100, Y_train)))\n"
   ]
  },
  {
   "cell_type": "code",
   "execution_count": null,
   "metadata": {
    "collapsed": false
   },
   "outputs": [],
   "source": [
    "Xs = np.arange(100)\n",
    "pt.figure()\n",
    "pt.title('PCA-100 for Mean Vector in Negative Review')\n",
    "pt.plot(Xs, m_0_pca100)\n",
    "pt.show()\n",
    "pt.title('PCA-100 for Mean Vector in Postive Review')\n",
    "pt.plot(Xs, m_1_pca100)\n",
    "pt.show()"
   ]
  },
  {
   "cell_type": "code",
   "execution_count": null,
   "metadata": {
    "collapsed": false
   },
   "outputs": [],
   "source": [
    "print (\"logistic regression for PCA100 accuracy is \" + str(get_lr_accuracy(X_train_pca100, Y_train, X_test_pca100, Y_test)) + \"!\")"
   ]
  },
  {
   "cell_type": "code",
   "execution_count": null,
   "metadata": {
    "collapsed": true
   },
   "outputs": [],
   "source": []
  },
  {
   "cell_type": "code",
   "execution_count": null,
   "metadata": {
    "collapsed": true
   },
   "outputs": [],
   "source": []
  },
  {
   "cell_type": "code",
   "execution_count": null,
   "metadata": {
    "collapsed": true
   },
   "outputs": [],
   "source": []
  },
  {
   "cell_type": "code",
   "execution_count": null,
   "metadata": {
    "collapsed": true
   },
   "outputs": [],
   "source": []
  },
  {
   "cell_type": "code",
   "execution_count": null,
   "metadata": {
    "collapsed": true
   },
   "outputs": [],
   "source": []
  }
 ],
 "metadata": {
  "anaconda-cloud": {},
  "kernelspec": {
   "display_name": "Python [Root]",
   "language": "python",
   "name": "Python [Root]"
  },
  "language_info": {
   "codemirror_mode": {
    "name": "ipython",
    "version": 3
   },
   "file_extension": ".py",
   "mimetype": "text/x-python",
   "name": "python",
   "nbconvert_exporter": "python",
   "pygments_lexer": "ipython3",
   "version": "3.5.2"
  }
 },
 "nbformat": 4,
 "nbformat_minor": 0
}
