{
 "cells": [
  {
   "cell_type": "markdown",
   "metadata": {
    "collapsed": false
   },
   "source": [
    "# Problem 2"
   ]
  },
  {
   "cell_type": "markdown",
   "metadata": {},
   "source": [
    "## (a) EM algorithm"
   ]
  },
  {
   "cell_type": "code",
   "execution_count": 17,
   "metadata": {
    "collapsed": true
   },
   "outputs": [],
   "source": [
    "# import package\n",
    "%matplotlib inline\n",
    "import numpy as np\n",
    "import random \n",
    "from matplotlib import pylab as plt\n",
    "from sklearn import preprocessing\n",
    "from scipy.stats import multivariate_normal\n",
    "from sklearn.metrics.pairwise import euclidean_distances"
   ]
  },
  {
   "cell_type": "code",
   "execution_count": 39,
   "metadata": {
    "collapsed": false
   },
   "outputs": [],
   "source": [
    "# preprocess the data\n",
    "def preprocess(feature):\n",
    "    feature = np.array(feature,dtype='f').reshape(-1,1)\n",
    "    min_max_scaler = preprocessing.MinMaxScaler()\n",
    "    norm_feature = min_max_scaler.fit_transform(feature)\n",
    "    return norm_feature.reshape(1,-1)[0]\n",
    "\n",
    "# initial mean&covariance for EM algorithm\n",
    "def initial():\n",
    "    mean1 = trainData[random.randint(0, 272)] # random cgise one point as mean\n",
    "    mean2 = trainData[random.randint(0, 272)]\n",
    "    cov1 = cov2 =  np.zeros((2, 2))\n",
    "    np.fill_diagonal(cov1,np.sum(np.cov(trainData.T))/4)\n",
    "    k = 2\n",
    "    pi = 0.5\n",
    "    means1.append(mean1)\n",
    "    means2.append(mean2)   \n",
    "    vars1.append(cov1[0][0])\n",
    "    vars2.append(cov2[0][0])\n",
    "    return mean1,mean2,cov1,cov2,k,pi\n",
    "\n",
    "# EM algorithm\n",
    "def emAlgorithm(trainData,mean1,mean2,cov1,cov2,pi,iterNum):\n",
    "    pdf1 = multivariate_normal.pdf(trainData, mean=mean1, cov=cov1); \n",
    "    pdf2 = multivariate_normal.pdf(trainData, mean=mean2, cov=cov2);\n",
    "    resp = pi*pdf2/((1-pi)*pdf1+pi*pdf2)\n",
    "    newMean1 = np.dot(np.transpose((1-resp).reshape(-1,1)),trainData)/np.sum(1-resp)\n",
    "    resps1 = np.concatenate([(np.sqrt(1-resp),np.sqrt(1-resp))],axis=0)\n",
    "    X1 = resps1*(trainData.T-mean1.reshape(-1,1))\n",
    "    newCov1 = np.zeros((2,2))\n",
    "    np.fill_diagonal(newCov1,np.sum(np.dot(X1,X1.T)/np.sum(1-resp))/4)\n",
    "    newMean2 = np.dot(np.transpose(resp.reshape(-1,1)),trainData)/np.sum(resp)\n",
    "    resps2 = np.concatenate([(np.sqrt(resp),np.sqrt(resp))],axis=0)\n",
    "    X2 = resps2*(trainData.T-mean2.reshape(-1,1))\n",
    "    newCov2 = np.zeros((2,2))\n",
    "    np.fill_diagonal(newCov2,np.sum(np.dot(X2,X2.T)/np.sum(resp))/4)\n",
    "    newpi = np.sum(resp)/272\n",
    "    means1.append(newMean1[0])\n",
    "    means2.append(newMean2[0])\n",
    "    vars1.append(newCov1[0][0])\n",
    "    vars2.append(newCov2[0][0])\n",
    "    iterNum = iterNum + 1\n",
    "    if(converge(means1) & converge(means2) & converge(vars1) & converge(vars2)):\n",
    "        print(\"Done!\")\n",
    "        iteraction.append(iterNum)\n",
    "    else:\n",
    "        emAlgorithm(trainData,newMean1[0],newMean2[0],newCov1,newCov2,newpi,iterNum)\n",
    "        \n",
    "# judge whether the mean&variance coverges or not        \n",
    "def converge(x):\n",
    "    x = np.array(x)\n",
    "#     addition = abs((x[len(x)-1]-x[len(x)-2])/x[len(x)-2])\n",
    "    addition = euclidean_distances(x[len(x)-1].reshape(1,-1),x[len(x)-2].reshape(1,-1))\n",
    "    if addition.all()<=0.00005:\n",
    "        return True\n",
    "    else:\n",
    "        return False"
   ]
  },
  {
   "cell_type": "markdown",
   "metadata": {},
   "source": [
    "# (b) Dataset load&plotting"
   ]
  },
  {
   "cell_type": "code",
   "execution_count": 40,
   "metadata": {
    "collapsed": true
   },
   "outputs": [],
   "source": [
    "# load data\n",
    "eruptions = []\n",
    "waiting = []\n",
    "fp = open(\"faithful.txt\")\n",
    "for i,line in enumerate(fp):\n",
    "    if (i> 25):\n",
    "        eruptions.append(line.strip().split()[1])\n",
    "        waiting.append(line.strip().split()[2])\n",
    "    else:\n",
    "        pass\n",
    "feature1 = preprocess(eruptions)\n",
    "feature2 = preprocess(waiting)\n",
    "trainData = zip(feature1, feature2)\n",
    "trainData = np.array(trainData)"
   ]
  },
  {
   "cell_type": "code",
   "execution_count": 20,
   "metadata": {
    "collapsed": false
   },
   "outputs": [
    {
     "data": {
      "image/png": "[encoded data removed]",
      "text/plain": [
       "<matplotlib.figure.Figure at 0x8b44400>"
      ]
     },
     "metadata": {},
     "output_type": "display_data"
    }
   ],
   "source": [
    "# plot data in 2-D plane\n",
    "plt.scatter(feature1,feature2)\n",
    "plt.xlabel(\"Eruptions\")\n",
    "plt.ylabel(\"Waiting\")\n",
    "plt.savefig(\"eruptions-waiting.png\")"
   ]
  },
  {
   "cell_type": "markdown",
   "metadata": {},
   "source": [
    "# (c) Fit data points using EM algorithm"
   ]
  },
  {
   "cell_type": "code",
   "execution_count": 43,
   "metadata": {
    "collapsed": false
   },
   "outputs": [
    {
     "name": "stdout",
     "output_type": "stream",
     "text": [
      "Done!\n"
     ]
    }
   ],
   "source": [
    "# fit the date using EM algorithm\n",
    "means1 = []\n",
    "means2 = []\n",
    "vars1 = []\n",
    "vars2 = []\n",
    "iteraction= []\n",
    "iterNum = 0\n",
    "mean1,mean2,cov1,cov2,k,pi = initial()\n",
    "emAlgorithm(trainData,mean1,mean2,cov1,cov2,pi,iterNum)"
   ]
  },
  {
   "cell_type": "code",
   "execution_count": 44,
   "metadata": {
    "collapsed": false
   },
   "outputs": [
    {
     "data": {
      "image/png": "[encoded data removed]",
      "text/plain": [
       "<matplotlib.figure.Figure at 0x8fde4a8>"
      ]
     },
     "metadata": {},
     "output_type": "display_data"
    }
   ],
   "source": [
    "# trajectories of two mean vectors\n",
    "plt.scatter(feature1,feature2)\n",
    "plt.scatter(np.array(means1)[:,0],np.array(means1)[:,1],color=['red'])\n",
    "plt.scatter(np.array(means2)[:,0],np.array(means2)[:,1],color=['green'])\n",
    "plt.xlabel(\"Eruptions\")\n",
    "plt.ylabel(\"Waiting\")\n",
    "plt.savefig(\"mean-trajectories.png\")"
   ]
  },
  {
   "cell_type": "code",
   "execution_count": 22,
   "metadata": {
    "collapsed": false
   },
   "outputs": [
    {
     "data": {
      "text/plain": [
       "18"
      ]
     },
     "execution_count": 22,
     "metadata": {},
     "output_type": "execute_result"
    }
   ],
   "source": [
    "iteraction[0]"
   ]
  },
  {
   "cell_type": "code",
   "execution_count": 11,
   "metadata": {
    "collapsed": false
   },
   "outputs": [
    {
     "name": "stdout",
     "output_type": "stream",
     "text": [
      "Done!\n",
      "Done!\n",
      "Done!\n",
      "Done!\n",
      "Done!\n",
      "Done!\n",
      "Done!\n",
      "Done!\n",
      "Done!\n",
      "Done!\n",
      "Done!\n",
      "Done!\n",
      "Done!\n",
      "Done!\n",
      "Done!\n",
      "Done!\n",
      "Done!\n",
      "Done!\n",
      "Done!\n",
      "Done!\n",
      "Done!\n",
      "Done!\n",
      "Done!\n",
      "Done!\n",
      "Done!\n",
      "Done!\n",
      "Done!\n",
      "Done!\n",
      "Done!\n",
      "Done!\n",
      "Done!\n",
      "Done!\n",
      "Done!\n",
      "Done!\n",
      "Done!\n",
      "Done!\n",
      "Done!\n",
      "Done!\n",
      "Done!\n",
      "Done!\n",
      "Done!\n",
      "Done!\n",
      "Done!\n",
      "Done!\n",
      "Done!\n",
      "Done!\n",
      "Done!\n",
      "Done!\n",
      "Done!\n",
      "Done!\n"
     ]
    }
   ],
   "source": [
    "# Run algorithm for 50 times\n",
    "iteraction= []\n",
    "for i in range(50):\n",
    "    means1 = []\n",
    "    means2 = []\n",
    "    vars1 = []\n",
    "    vars2 = []\n",
    "    iterNum = 0\n",
    "    mean1,mean2,cov1,cov2,k,pi = initial()\n",
    "    emAlgorithm(trainData,mean1,mean2,cov1,cov2,pi,iterNum)"
   ]
  },
  {
   "cell_type": "code",
   "execution_count": 13,
   "metadata": {
    "collapsed": false
   },
   "outputs": [
    {
     "data": {
      "image/png": "[encoded data removed]",
      "text/plain": [
       "<matplotlib.figure.Figure at 0x8e0a9b0>"
      ]
     },
     "metadata": {},
     "output_type": "display_data"
    }
   ],
   "source": [
    "#  distribution of iteration\n",
    "plt.hist(iteraction)\n",
    "plt.savefig(\"iteraction-dist.png\")"
   ]
  },
  {
   "cell_type": "markdown",
   "metadata": {},
   "source": [
    "# (d) Run K-means algorithm as initial process"
   ]
  },
  {
   "cell_type": "code",
   "execution_count": 16,
   "metadata": {
    "collapsed": false
   },
   "outputs": [
    {
     "name": "stdout",
     "output_type": "stream",
     "text": [
      "Prediction of label is.\n",
      "[1 0 1 0 1 0 1 1 0 1 0 1 1 0 1 0 0 1 0 1 0 0 1 0 1 1 0 1 1 1 1 1 1 1 1 0 0\n",
      " 1 0 1 1 0 1 0 1 1 1 0 1 0 1 1 0 1 0 1 1 0 1 1 0 1 0 1 0 1 1 1 0 1 1 0 1 1\n",
      " 0 1 0 1 1 1 1 1 1 0 1 1 1 1 0 1 0 1 0 1 0 1 1 1 0 1 0 1 0 1 1 0 1 0 1 1 1\n",
      " 0 1 1 0 1 0 1 0 1 0 1 1 0 1 1 0 1 0 1 0 1 0 1 0 1 0 1 0 1 1 0 1 1 1 0 1 0\n",
      " 1 0 1 1 0 1 1 1 1 1 0 1 0 1 0 1 1 1 0 1 0 1 0 0 1 1 1 1 1 0 1 1 0 1 1 1 0\n",
      " 1 1 0 1 0 1 0 1 1 1 1 1 1 0 1 0 1 1 0 1 0 1 1 0 1 0 1 0 1 1 1 0 1 0 1 0 1\n",
      " 0 1 1 1 1 1 1 1 1 0 1 0 1 0 0 1 1 0 1 0 1 0 1 1 0 1 0 1 0 1 1 1 1 1 1 1 0\n",
      " 1 1 1 0 1 0 0 1 1 0 1 0 1]\n",
      "Done!\n",
      "1\n"
     ]
    }
   ],
   "source": [
    "from sklearn.cluster import KMeans\n",
    "kmeans = KMeans(n_clusters=2).fit(trainData)\n",
    "print(\"Prediction of label is.\")\n",
    "print(kmeans.labels_)\n",
    "kvar1 = np.var(trainData[np.where(kmeans.labels_==0)],0)\n",
    "kvar2 = np.var(trainData[np.where(kmeans.labels_==1)],0)\n",
    "means1 = []\n",
    "means2 = []\n",
    "vars1 = []\n",
    "vars2 = []\n",
    "iteraction= []\n",
    "iterNum = 0\n",
    "emAlgorithm(trainData,kmeans.cluster_centers_[0],kmeans.cluster_centers_[1],kvar1,kvar2,pi,iterNum)\n",
    "print(iteraction[0])"
   ]
  },
  {
   "cell_type": "code",
   "execution_count": 38,
   "metadata": {
    "collapsed": false
   },
   "outputs": [
    {
     "data": {
      "text/plain": [
       "array([[ 1.41421356]])"
      ]
     },
     "execution_count": 38,
     "metadata": {},
     "output_type": "execute_result"
    }
   ],
   "source": [
    "from sklearn.metrics.pairwise import euclidean_distances\n",
    "a = [1,2]\n",
    "b = [2,3]\n",
    "x = np.array(a)\n",
    "y = np.array(b)\n",
    "euclidean_distances(x.reshape(1,-1),y.reshape(1,-1))"
   ]
  },
  {
   "cell_type": "code",
   "execution_count": null,
   "metadata": {
    "collapsed": true
   },
   "outputs": [],
   "source": []
  }
 ],
 "metadata": {
  "anaconda-cloud": {},
  "kernelspec": {
   "display_name": "Python [Root]",
   "language": "python",
   "name": "Python [Root]"
  },
  "language_info": {
   "codemirror_mode": {
    "name": "ipython",
    "version": 3
   },
   "file_extension": ".py",
   "mimetype": "text/x-python",
   "name": "python",
   "nbconvert_exporter": "python",
   "pygments_lexer": "ipython3",
   "version": "3.5.2"
  }
 },
 "nbformat": 4,
 "nbformat_minor": 0
}
