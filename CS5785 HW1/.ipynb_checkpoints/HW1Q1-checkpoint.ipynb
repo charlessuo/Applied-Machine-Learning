{
 "cells": [
  {
   "cell_type": "code",
   "execution_count": 3,
   "metadata": {
    "collapsed": false
   },
   "outputs": [
    {
     "name": "stdout",
     "output_type": "stream",
     "text": [
      "Populating the interactive namespace from numpy and matplotlib\n"
     ]
    }
   ],
   "source": [
    "%pylab inline\n",
    "import numpy as np\n",
    "import numpy.linalg as la\n",
    "import matplotlib.pyplot as plt\n",
    "from sklearn import metrics, cross_validation\n",
    "from sklearn.metrics import confusion_matrix"
   ]
  },
  {
   "cell_type": "code",
   "execution_count": 4,
   "metadata": {
    "collapsed": false
   },
   "outputs": [],
   "source": [
    "# by default, skip header 0 is skipping zero line\n",
    "# so here we skip the header first line of data is trash\n",
    "# return a train_matrix with all the data\n",
    "def read_from_csv(filename):\n",
    "    train_matrix = np.genfromtxt(filename, delimiter = ',', skip_header = 1)\n",
    "    train_matrix.shape\n",
    "    return train_matrix"
   ]
  },
  {
   "cell_type": "code",
   "execution_count": 5,
   "metadata": {
    "collapsed": false
   },
   "outputs": [],
   "source": [
    "# this method is spilting the label(first column)\n",
    "def get_label_arrays(train_matrix):\n",
    "    labels = train_matrix[ : ,:1]\n",
    "    return labels\n",
    "    "
   ]
  },
  {
   "cell_type": "code",
   "execution_count": 6,
   "metadata": {
    "collapsed": true
   },
   "outputs": [],
   "source": [
    "# remaining columns are pixels\n",
    "def get_pixels_arrays(train_matrix):\n",
    "    pixels = train_matrix[ : ,1:]\n",
    "    return pixels"
   ]
  },
  {
   "cell_type": "code",
   "execution_count": 7,
   "metadata": {
    "collapsed": true
   },
   "outputs": [],
   "source": [
    "# get first 10 example digits\n",
    "def get_example_digits(train_matrix):\n",
    "    i = 0\n",
    "    j = 0\n",
    "    found = np.zeros(shape = (10, 785))\n",
    "    while i < 10:\n",
    "        if i == get_label_arrays(train_matrix)[j]:\n",
    "            found[i] = train_matrix[j]\n",
    "            i = i + 1\n",
    "            j = 0      \n",
    "        else:\n",
    "            j = j + 1\n",
    "    return found"
   ]
  },
  {
   "cell_type": "code",
   "execution_count": 8,
   "metadata": {
    "collapsed": false
   },
   "outputs": [],
   "source": [
    "# draw the first 10 digits\n",
    "def draw_digits(pixels):\n",
    "    j = 0\n",
    "    while j < 10:\n",
    "        image = pixels[j].reshape(28, 28)\n",
    "        plt.subplot(2, 5, j+1)\n",
    "        plt.gray()\n",
    "        plt.imshow(image)\n",
    "        j = j + 1\n",
    "    plt.savefig(\"10digits.png\")\n",
    "        "
   ]
  },
  {
   "cell_type": "code",
   "execution_count": 9,
   "metadata": {
    "collapsed": false
   },
   "outputs": [],
   "source": [
    "# plot the historgram and label axis\n",
    "def print_histogram(labels):\n",
    "    plt.figure()\n",
    "    n, bins, patches = plt.hist(labels, 10, normed=True)\n",
    "    for patch in patches:\n",
    "        patch.set_height(patch.get_height()/sum(n))\n",
    "    plt.xlabel(\"Digit\")\n",
    "    plt.ylabel(\"Probability\")\n",
    "    plt.title(\"Histogram of each digits in Kaggle Dataset\")\n",
    "    plt.grid(True)\n",
    "    plt.savefig(\"Hist_each_digs.png\")"
   ]
  },
  {
   "cell_type": "code",
   "execution_count": 10,
   "metadata": {
    "collapsed": false
   },
   "outputs": [],
   "source": [
    "# this method iterates through the entire training data and calculate the distance\n",
    "# between one digit and other training data. Then save the shortest distance into the neighbor array.\n",
    "# One thing need to be careful is (distance!=0), this is ensure that do not save the digit itself, which\n",
    "# will always has a a distance zero\n",
    "\n",
    "def find_nearest_neighbor(single_digit,train_matrix):\n",
    "    neighbor = np.zeros(shape = (1,785))\n",
    "    min_distance = sys.maxsize\n",
    "    for i in range(len(train_matrix)):\n",
    "        iterator = train_matrix[i]\n",
    "        # only calculating metric: 1-785 columns; not counting labels\n",
    "        distance = la.norm(iterator[1:785] - single_digit[1:785])\n",
    "        # make sure that is not same pict(distance!=0)\n",
    "        if distance < min_distance and distance !=0:\n",
    "                   min_distance = distance\n",
    "                   neighbor = iterator\n",
    "    return neighbor"
   ]
  },
  {
   "cell_type": "code",
   "execution_count": 11,
   "metadata": {
    "collapsed": true
   },
   "outputs": [],
   "source": [
    "# straighfoward method to draw the images\n",
    "def draw_nearest_neighbor(example, nearest_neighbor_train_matrix):\n",
    "    nearest_neighbor_pixels = get_pixels_arrays(nearest_neighbor_train_matrix)\n",
    "    example_pixels = get_pixels_arrays(example)\n",
    "    nearest_neighbor_labels = get_label_arrays(nearest_neighbor_train_matrix)\n",
    "    example_labels = get_label_arrays(example_pixels)\n",
    "    for i in range(len(example_pixels)):\n",
    "        image1 = example_pixels[i].reshape(28, 28)\n",
    "        image2 = nearest_neighbor_pixels[i].reshape(28, 28)\n",
    "        plt.subplot(10, 2, i * 2 + 1)\n",
    "        plt.gray()\n",
    "        plt.imshow(image1)\n",
    "        plt.subplot(10, 2, i * 2 + 2)\n",
    "#         if(example_labels[i] != nearest_neighbor_labels[i]):\n",
    "#             plt.title(\"**********\")\n",
    "        plt.imshow(image2)        \n",
    "    plt.savefig(\"Nearest_neighbor_comparsion.png\")\n",
    "        "
   ]
  },
  {
   "cell_type": "code",
   "execution_count": 12,
   "metadata": {
    "collapsed": true
   },
   "outputs": [],
   "source": [
    "# this method iterates through the train_matrix, and by comparing the label of the matrix,\n",
    "# save the corresponding matrix to zeros, ones\n",
    "def get_zeros_and_ones(train_matrix):\n",
    "    labels = get_label_arrays(train_matrix)\n",
    "    pixels = get_pixels_arrays(train_matrix)\n",
    "    zeros = []\n",
    "    ones = []\n",
    "    for i in range(len(train_matrix)):\n",
    "        if labels[i] == 0:\n",
    "            zeros.append(train_matrix[i])\n",
    "        elif labels[i] == 1:\n",
    "            ones.append(train_matrix[i])\n",
    "        else:\n",
    "            continue\n",
    "    zeros = np.array(zeros)\n",
    "    ones = np.array(ones)\n",
    "    return zeros, ones    \n"
   ]
  },
  {
   "cell_type": "code",
   "execution_count": 13,
   "metadata": {
    "collapsed": false
   },
   "outputs": [],
   "source": [
    "def get_genuine_distance(train_matrix):\n",
    "    pixel = get_pixels_arrays(train_matrix)\n",
    "    distance = []\n",
    "    i = 0\n",
    "    while i < len(pixel):\n",
    "        j = i + 1\n",
    "        while j < len(pixel):\n",
    "            distance.append(la.norm(pixel[i] - pixel[j]))\n",
    "            j += 1\n",
    "        i += 1\n",
    "    return distance\n",
    "  \n",
    "            "
   ]
  },
  {
   "cell_type": "code",
   "execution_count": 14,
   "metadata": {
    "collapsed": false
   },
   "outputs": [],
   "source": [
    " \n",
    "def get_imposter_distance(zeros, ones):\n",
    "    zeros_pixel = get_pixels_arrays(zeros)\n",
    "    ones_pixel = get_pixels_arrays(ones)\n",
    "    distance = []\n",
    "    for i in range(len(zeros_pixel)):\n",
    "        for j in range(len(ones_pixel)):\n",
    "            distance.append(la.norm(zeros_pixel[i] - ones_pixel[j]))\n",
    "    return distance\n",
    "            "
   ]
  },
  {
   "cell_type": "code",
   "execution_count": 15,
   "metadata": {
    "collapsed": true
   },
   "outputs": [],
   "source": [
    "def print_genuineAndImposter_histogram(genuine, imposter):\n",
    "    plt.figure()\n",
    "    plt.legend()\n",
    "    plt.hist(genuine, 100, label=\"Genuine Distances\")\n",
    "    plt.hist(imposter, 100, label=\"Imposter Distances\")\n",
    "    plt.title(\"Histogram of Genuine and Imposter Distances\")\n",
    "    plt.show()\n",
    "    plt.savefig(\"dsitance_genuine_imposter.png\")"
   ]
  },
  {
   "cell_type": "code",
   "execution_count": 16,
   "metadata": {
    "collapsed": false
   },
   "outputs": [],
   "source": [
    "# KNN_classifier works for now\n",
    "def kNN_classifier(k, target, pixels, labels):\n",
    "    #store all the distance parameters in distances list\n",
    "    distances = []\n",
    "    for index in range(len(pixels)):\n",
    "        distance = la.norm(target - pixels[index])\n",
    "        distances.append((distance, index))\n",
    "    # sort distances list in term of distance\n",
    "    distances.sort(key=lambda elem: elem[0])\n",
    "    neighbors = []\n",
    "    # store the first k distances index in neighbors\n",
    "    for index in range(k):\n",
    "        neighbors.append(distances[index][1])\n",
    "    # now iterate the neighbors, to find the most voted label\n",
    "    count = [0] * 10\n",
    "    for index in range(len(neighbors)):\n",
    "        digit_label = int(labels[neighbors[index]])\n",
    "        count[digit_label]+=1\n",
    "    \n",
    "#     print (count)\n",
    "    for index in range(len(count)):\n",
    "        if count[index] == max(count):\n",
    "            return index\n",
    "    return -20000"
   ]
  },
  {
   "cell_type": "code",
   "execution_count": 17,
   "metadata": {
    "collapsed": false
   },
   "outputs": [],
   "source": [
    "# X is the training data(column 1:785), this is pixels\n",
    "# Y is the label(column 0)\n",
    "# train_index, test_index is the matrix indices from cross_validation\n",
    "# this method calls KNN_classifer to calculate each training data's label, then compare to real label to calculate the\n",
    "# accuracy. Also, confusion_matrix is also established here. Remeber, the diagnoal of confusion matrix is the one\n",
    "# that matches the result. \n",
    "def classify_and_test_accuracy(X, Y, train_index, test_index):\n",
    "    \n",
    "    k = 5\n",
    "    X_train = X[train_index]\n",
    "    Y_train = Y[train_index]\n",
    "    X_test = X[test_index]\n",
    "    Y_test = Y[test_index]\n",
    "    \n",
    "    Y_predicted = np.zeros(len(X_test))\n",
    "\n",
    "           \n",
    "    for index in range(len(X_test)):\n",
    "        Y_predicted[index] = kNN_classifier(k, X_test[index], X_train, Y_train)\n",
    "        # make the confusion matrix, row is real result, column is predicted\n",
    "        confusion_matrix[int(Y_test[index])][int(Y_predicted[index])] += 1\n",
    "    \n",
    "    correct = 0\n",
    "    for index in range(len(Y_predicted)):\n",
    "        if(Y_predicted[index] == Y_test[index]):\n",
    "            correct +=1\n",
    "    return correct/float(len(Y_test))"
   ]
  },
  {
   "cell_type": "code",
   "execution_count": 18,
   "metadata": {
    "collapsed": false
   },
   "outputs": [],
   "source": [
    "def test_kNN_accuracy(X, Y, train_indices, test_indices):\n",
    "    k = 5\n",
    "    X_train = X[train_indices]\n",
    "    Y_train = Y[train_indices]\n",
    "    X_test = X[test_indices]\n",
    "    Y_test = Y[test_indices]\n",
    "    Y_predicted = np.zeros(len(Y_test))\n",
    "    for index in range(len(X_test)):\n",
    "        Y_predicted[index] = kNN_classifier(k, X_test[index], X_train, Y_train)\n",
    "        confusion_matrix[int(Y_test[index])][int(Y_predicted[index])] += 1\n",
    "    return (Y_predicted == Y_test).sum() / float(len(Y_test))\n"
   ]
  },
  {
   "cell_type": "code",
   "execution_count": 21,
   "metadata": {
    "collapsed": false,
    "scrolled": true
   },
   "outputs": [],
   "source": [
    "# part a\n",
    "train_matrix = read_from_csv('train.csv')"
   ]
  },
  {
   "cell_type": "code",
   "execution_count": 22,
   "metadata": {
    "collapsed": false
   },
   "outputs": [
    {
     "data": {
      "image/png": "[encoded data removed]",
      "text/plain": [
       "<matplotlib.figure.Figure at 0x14fc82a20>"
      ]
     },
     "metadata": {},
     "output_type": "display_data"
    }
   ],
   "source": [
    "# b\n",
    "example = get_example_digits(train_matrix)\n",
    "example_labels = get_label_arrays(example)\n",
    "example_pixels = get_pixels_arrays(example)\n",
    "draw_digits(example_pixels)"
   ]
  },
  {
   "cell_type": "code",
   "execution_count": 23,
   "metadata": {
    "collapsed": false
   },
   "outputs": [
    {
     "data": {
      "image/png": "[encoded data removed]",
      "text/plain": [
       "<matplotlib.figure.Figure at 0x14fc82898>"
      ]
     },
     "metadata": {},
     "output_type": "display_data"
    }
   ],
   "source": [
    "# part c\n",
    "labels = get_label_arrays(train_matrix)\n",
    "print_histogram(labels)"
   ]
  },
  {
   "cell_type": "code",
   "execution_count": 26,
   "metadata": {
    "collapsed": false
   },
   "outputs": [
    {
     "data": {
      "image/png": "[encoded data removed]",
      "text/plain": [
       "<matplotlib.figure.Figure at 0x188562f60>"
      ]
     },
     "metadata": {},
     "output_type": "display_data"
    }
   ],
   "source": [
    "# part D DSB\n",
    "nearest_neighbor_train_matrix = np.zeros(shape = (10, 785))\n",
    "for i in range(len(example)):\n",
    "    nearest_neighbor_train_matrix[i] = find_nearest_neighbor(example[i], train_matrix)\n",
    "draw_nearest_neighbor(example, nearest_neighbor_train_matrix)\n",
    "    "
   ]
  },
  {
   "cell_type": "code",
   "execution_count": 27,
   "metadata": {
    "collapsed": false
   },
   "outputs": [
    {
     "name": "stdout",
     "output_type": "stream",
     "text": [
      "19354288\n"
     ]
    }
   ],
   "source": [
    "# start of part e; imposter contains list of distances\n",
    "zeros, ones = get_zeros_and_ones(train_matrix) \n",
    "imposter_distance = get_imposter_distance(zeros, ones)\n",
    "print (len(imposter_distance))"
   ]
  },
  {
   "cell_type": "code",
   "execution_count": 28,
   "metadata": {
    "collapsed": false
   },
   "outputs": [],
   "source": [
    "# merge genuine zero distance and one distance together\n",
    "zero_distance = get_genuine_distance(zeros)\n",
    "one_distance = get_genuine_distance(ones)\n"
   ]
  },
  {
   "cell_type": "code",
   "execution_count": 29,
   "metadata": {
    "collapsed": false
   },
   "outputs": [
    {
     "name": "stdout",
     "output_type": "stream",
     "text": [
      "19502232\n"
     ]
    }
   ],
   "source": [
    "genuine_distance = zero_distance + one_distance\n",
    "print(len(genuine_distance))"
   ]
  },
  {
   "cell_type": "code",
   "execution_count": 30,
   "metadata": {
    "collapsed": false
   },
   "outputs": [
    {
     "name": "stderr",
     "output_type": "stream",
     "text": [
      "//anaconda/lib/python3.5/site-packages/matplotlib/axes/_axes.py:519: UserWarning: No labelled objects found. Use label='...' kwarg on individual plots.\n",
      "  warnings.warn(\"No labelled objects found. \"\n"
     ]
    },
    {
     "data": {
      "image/png": "[encoded data removed]",
      "text/plain": [
       "<matplotlib.figure.Figure at 0x1886f82e8>"
      ]
     },
     "metadata": {},
     "output_type": "display_data"
    },
    {
     "data": {
      "text/plain": [
       "<matplotlib.figure.Figure at 0x101bcf128>"
      ]
     },
     "metadata": {},
     "output_type": "display_data"
    }
   ],
   "source": [
    "# plot part e \n",
    "print_genuineAndImposter_histogram(imposter_distance, genuine_distance)"
   ]
  },
  {
   "cell_type": "code",
   "execution_count": 31,
   "metadata": {
    "collapsed": false
   },
   "outputs": [
    {
     "data": {
      "text/plain": [
       "(38856520,)"
      ]
     },
     "execution_count": 31,
     "metadata": {},
     "output_type": "execute_result"
    }
   ],
   "source": [
    "# f Generate an ROC curve from the above sets of distances.\n",
    "# What is the equal error rate? What is the error rate of a classifier that simply guesses randomly?\n",
    "\n",
    "# max possible distance of 784 pixels, but smaller distance means better fit(higher score)\n",
    "# so I did a trick to convert distance to score\n",
    "max_distance = 255 * 255 * 784\n",
    "# re-arrange list to array\n",
    "genuine_distance = np.array(genuine_distance)\n",
    "imposter_distance = np.array(imposter_distance)\n",
    "genuine_score = max_distance - genuine_distance\n",
    "imposter_score = max_distance - imposter_distance\n",
    "# make y-true binary labels, binarize output\n",
    "\n",
    "y_true = np.append(np.zeros(len(imposter_score)), np.ones(len(genuine_score)))\n",
    "y_true.shape"
   ]
  },
  {
   "cell_type": "code",
   "execution_count": 32,
   "metadata": {
    "collapsed": false
   },
   "outputs": [
    {
     "data": {
      "text/plain": [
       "(38856520,)"
      ]
     },
     "execution_count": 32,
     "metadata": {},
     "output_type": "execute_result"
    }
   ],
   "source": [
    "\n",
    "y_score = np.append(imposter_score, genuine_score)\n",
    "y_score.shape"
   ]
  },
  {
   "cell_type": "code",
   "execution_count": 33,
   "metadata": {
    "collapsed": false
   },
   "outputs": [],
   "source": [
    "# cacluate false postitve rate and true postive rate\n",
    "fpr, tpr, thresholds = metrics.roc_curve(y_true, y_score)"
   ]
  },
  {
   "cell_type": "code",
   "execution_count": 38,
   "metadata": {
    "collapsed": true
   },
   "outputs": [],
   "source": [
    "roc_auc = metrics.auc(fpr, tpr)"
   ]
  },
  {
   "cell_type": "code",
   "execution_count": 39,
   "metadata": {
    "collapsed": false
   },
   "outputs": [
    {
     "data": {
      "image/png": "[encoded data removed]",
      "text/plain": [
       "<matplotlib.figure.Figure at 0x1892056d8>"
      ]
     },
     "metadata": {},
     "output_type": "display_data"
    }
   ],
   "source": [
    "# plot the roc curve\n",
    "# ref: http://scikit-learn.org/stable/auto_examples/model_selection/plot_roc.html\n",
    "plt.figure()\n",
    "plt.plot(fpr, tpr, label='AUC = %0.2f' % roc_auc)\n",
    "plt.plot([0,1],[0,1], 'k--')\n",
    "plt.plot([1, 0], [0, 1])\n",
    "plt.xlim([0.0,1.0])\n",
    "plt.ylim([0.0,1.05])\n",
    "plt.xlabel('False Positive Rate')\n",
    "plt.ylabel('True Positive Rate')\n",
    "plt.title(\"ROC\")\n",
    "plt.legend(loc='lower right')\n",
    "plt.show()\n",
    "# saving does not work, comment out\n",
    "# plt.savefig('ROC.jpg')"
   ]
  },
  {
   "cell_type": "code",
   "execution_count": 92,
   "metadata": {
    "collapsed": false
   },
   "outputs": [
    {
     "name": "stdout",
     "output_type": "stream",
     "text": [
      "(42000, 784)\n",
      "(42000,)\n"
     ]
    }
   ],
   "source": [
    "# g and h\n",
    "X = train_matrix[:, 1:]\n",
    "Y = train_matrix[:, 0]\n",
    "print (X.shape)\n",
    "print (Y.shape)"
   ]
  },
  {
   "cell_type": "code",
   "execution_count": 137,
   "metadata": {
    "collapsed": false
   },
   "outputs": [
    {
     "name": "stdout",
     "output_type": "stream",
     "text": [
      "0.9645714285714285\n",
      "0.9631428571428572\n",
      "0.9649285714285715\n"
     ]
    }
   ],
   "source": [
    "# test kNN_classifier passed\n",
    "# print(Y[20123])\n",
    "# kNN_classifier(3, X[20123],X,Y)\n",
    "confusion_matrix = np.zeros((10,10))\n",
    "for train_index, test_index in cross_validation.KFold(len(X), n_folds=3):\n",
    "    accuracy = classify_and_test_accuracy(X, Y, train_index, test_index)\n",
    "    print (accuracy)"
   ]
  },
  {
   "cell_type": "code",
   "execution_count": 138,
   "metadata": {
    "collapsed": false
   },
   "outputs": [
    {
     "name": "stdout",
     "output_type": "stream",
     "text": [
      "digit 0 accuracy is 0.993223620523\n",
      "digit 1 accuracy is 0.99487617421\n",
      "digit 2 accuracy is 0.949485276514\n",
      "digit 3 accuracy is 0.963686508849\n",
      "digit 4 accuracy is 0.958988212181\n",
      "digit 5 accuracy is 0.953623188406\n",
      "digit 6 accuracy is 0.986463620981\n",
      "digit 7 accuracy is 0.969097932288\n",
      "digit 8 accuracy is 0.91557962097\n",
      "digit 9 accuracy is 0.951289398281\n"
     ]
    }
   ],
   "source": [
    "# calcuate the digit_accuracy by using the confusion matrix and print out\n",
    "digit_accuracy = []\n",
    "for i in range(10):\n",
    "    digit_count = 0\n",
    "    for j in range(10):\n",
    "        digit_count += confusion_matrix[i][j]\n",
    "    digit_accuracy.append(confusion_matrix[i][i]/float(digit_count))\n",
    "    print (\"digit \"+str(i)+\" accuracy is \"+str(digit_accuracy[i]))"
   ]
  },
  {
   "cell_type": "code",
   "execution_count": 139,
   "metadata": {
    "collapsed": false
   },
   "outputs": [
    {
     "data": {
      "text/plain": [
       "array([[4104,    1,    4,    0,    0,    7,   12,    2,    0,    2],\n",
       "       [   0, 4660,    9,    2,    1,    0,    2,    7,    1,    2],\n",
       "       [  34,   59, 3966,   13,    3,    5,    3,   83,    8,    3],\n",
       "       [   5,   13,   28, 4193,    0,   43,    1,   24,   24,   20],\n",
       "       [   2,   50,    0,    0, 3905,    0,   14,    7,    2,   92],\n",
       "       [  11,    9,    2,   73,    3, 3619,   48,    3,    4,   23],\n",
       "       [  26,    7,    1,    0,    4,   17, 4081,    0,    1,    0],\n",
       "       [   2,   61,   11,    3,   13,    0,    0, 4265,    0,   46],\n",
       "       [  19,   50,   20,   77,   22,   79,   20,   13, 3720,   43],\n",
       "       [  16,   13,    3,   33,   47,   11,    1,   69,   11, 3984]])"
      ]
     },
     "execution_count": 139,
     "metadata": {},
     "output_type": "execute_result"
    }
   ],
   "source": [
    "# i show the matrix\n",
    "confusion_matrix\n",
    "confusion_matrix.astype(int)\n"
   ]
  },
  {
   "cell_type": "code",
   "execution_count": 140,
   "metadata": {
    "collapsed": true
   },
   "outputs": [],
   "source": [
    "# apply same method to read in test csv\n",
    "test_matrix = read_from_csv(\"test.csv\")"
   ]
  },
  {
   "cell_type": "code",
   "execution_count": 146,
   "metadata": {
    "collapsed": false
   },
   "outputs": [
    {
     "name": "stdout",
     "output_type": "stream",
     "text": [
      "(42000, 784)\n",
      "(42000,)\n",
      "(28000, 784)\n"
     ]
    }
   ],
   "source": [
    "\n",
    "print (X.shape)\n",
    "print (Y.shape)\n",
    "print (test_matrix.shape)"
   ]
  },
  {
   "cell_type": "code",
   "execution_count": 147,
   "metadata": {
    "collapsed": false
   },
   "outputs": [],
   "source": [
    "k = 5\n",
    "test_predicted = np.zeros(len(test_matrix))\n",
    "for i in range(len(test_predicted)):\n",
    "    test_predicted[i] = kNN_classifier(k, test_matrix[i], X, Y)\n",
    "#     if i%1000 == 0:\n",
    "#         print (i)"
   ]
  },
  {
   "cell_type": "code",
   "execution_count": 152,
   "metadata": {
    "collapsed": false
   },
   "outputs": [],
   "source": [
    "# output the file:\n",
    "# ref: https://docs.python.org/2/library/csv.html\n",
    "import csv\n",
    "with open('Kaggle_Digits_Prediction.csv', \"w\") as f:\n",
    "    writer = csv.writer(f, delimiter=',')\n",
    "    writer.writerow(['ImageId', 'Label'])\n",
    "    for index in range(len(test_predicted)):\n",
    "        writer.writerow([(index+1), int(test_predicted[index])])"
   ]
  },
  {
   "cell_type": "code",
   "execution_count": 150,
   "metadata": {
    "collapsed": false
   },
   "outputs": [
    {
     "data": {
      "text/plain": [
       "2.0"
      ]
     },
     "execution_count": 150,
     "metadata": {},
     "output_type": "execute_result"
    }
   ],
   "source": [
    "test_predicted[27999]"
   ]
  }
 ],
 "metadata": {
  "anaconda-cloud": {},
  "kernelspec": {
   "display_name": "Python [Root]",
   "language": "python",
   "name": "Python [Root]"
  },
  "language_info": {
   "codemirror_mode": {
    "name": "ipython",
    "version": 3
   },
   "file_extension": ".py",
   "mimetype": "text/x-python",
   "name": "python",
   "nbconvert_exporter": "python",
   "pygments_lexer": "ipython3",
   "version": "3.5.2"
  }
 },
 "nbformat": 4,
 "nbformat_minor": 0
}
